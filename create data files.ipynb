{
 "cells": [
  {
   "cell_type": "markdown",
   "metadata": {},
   "source": [
    "## Imports"
   ]
  },
  {
   "cell_type": "markdown",
   "metadata": {},
   "source": [
    "Most recent version of spotipy\n",
    "\n",
    "Uncomment this if you haven't installed it yet"
   ]
  },
  {
   "cell_type": "code",
   "execution_count": 1,
   "metadata": {},
   "outputs": [],
   "source": [
    "# !pip install git+https://github.com/plamere/spotipy.git --upgrade"
   ]
  },
  {
   "cell_type": "code",
   "execution_count": 2,
   "metadata": {},
   "outputs": [],
   "source": [
    "import spotipy\n",
    "import spotipy.util as util\n",
    "from spotipy.oauth2 import SpotifyClientCredentials\n",
    "\n",
    "import pandas as pd\n",
    "import json\n",
    "import os"
   ]
  },
  {
   "cell_type": "markdown",
   "metadata": {},
   "source": [
    "## Spotipy setup\n",
    "\n",
    "- Need client id and client secret which you can get from [here](https://developer.spotify.com/dashboard/login).\n",
    "- Also need to setup your redirectURI. I just use Google. It doesn't really matter. You can do this by clicking on the green 'Edit Settings' button. Make sure to add and save.\n",
    "- Username is your user id which you can find by (at least on the desktop app) clicking on your name in the top right to get to your profile, clicking the '...' under your name, hover over 'Share' and navigate to 'Copy Profile Link'. Click it. Paste somewhere to show the link which should be something like https://open.spotify.com/user/** where ** is your user id."
   ]
  },
  {
   "cell_type": "code",
   "execution_count": 3,
   "metadata": {},
   "outputs": [],
   "source": [
    "cId = \"f898fc206f4145a3b02311c7820f9895\"\n",
    "cSecret = \"c38d6ceb3edb4014b59e9bd1fba55997\"\n",
    "redirectURI = \"https://google.com/\"\n",
    "username = \"1211791703\"\n",
    "\n",
    "client_credentials_manager = SpotifyClientCredentials(client_id=cId, client_secret=cSecret)\n",
    "sp = spotipy.Spotify(client_credentials_manager=client_credentials_manager)\n",
    "\n",
    "scope = ''\n",
    "token = util.prompt_for_user_token(username, scope, cId, cSecret, redirectURI)\n",
    "\n",
    "if token:\n",
    "    sp = spotipy.Spotify(auth=token)\n",
    "else:\n",
    "    print(\"Can't get token for\", username)"
   ]
  },
  {
   "cell_type": "markdown",
   "metadata": {},
   "source": [
    "## Importing some saved tracks from spotify to a csv file"
   ]
  },
  {
   "cell_type": "markdown",
   "metadata": {},
   "source": [
    "Get US top 50 playlist id. It should be 37i9dQZEVXbLRQDuF5jeBp."
   ]
  },
  {
   "cell_type": "code",
   "execution_count": 4,
   "metadata": {
    "scrolled": false
   },
   "outputs": [
    {
     "data": {
      "text/plain": [
       "'37i9dQZEVXbLRQDuF5jeBp'"
      ]
     },
     "execution_count": 4,
     "metadata": {},
     "output_type": "execute_result"
    }
   ],
   "source": [
    "us_top50_id = ''\n",
    "limit = 50\n",
    "for i in range(1100, 1300, limit):\n",
    "    playlists = sp.user_playlists('spotify', limit=limit, offset=i)\n",
    "    for pl in playlists['items']:\n",
    "        if pl['name'] == 'United States Top 50':\n",
    "            us_top50_id = pl['id']\n",
    "            break\n",
    "#     if not us_top50_id:\n",
    "#         break\n",
    "us_top50_id"
   ]
  },
  {
   "cell_type": "markdown",
   "metadata": {},
   "source": [
    "This stores the user's saved tracks, artists, and albums into their respective lists."
   ]
  },
  {
   "cell_type": "code",
   "execution_count": 5,
   "metadata": {},
   "outputs": [],
   "source": [
    "top_us_50_songs = sp.user_playlist('spotify', playlist_id=us_top50_id, fields=None)\n",
    "# print(json.dumps(top_us_50_songs, sort_keys=True, indent=True))\n",
    "# print(json.dumps(sp.artist('7jVv8c5Fj3E9VhNjxT4snq'), sort_keys=True, indent=True))"
   ]
  },
  {
   "cell_type": "code",
   "execution_count": 6,
   "metadata": {},
   "outputs": [],
   "source": [
    "track_list = []\n",
    "artist_list = []\n",
    "album_list = []\n",
    "\n",
    "song_artist_list = []\n",
    "song_album_list = []\n",
    "album_artist_list = []\n",
    "\n",
    "for t in top_us_50_songs['tracks']['items']:\n",
    "    track = t['track']\n",
    "    track_id = track['id']\n",
    "\n",
    "    # iterating through each artist of the track\n",
    "    for artist in track['artists']:\n",
    "        artist_id = artist['id']\n",
    "        \n",
    "        # storing artist in artist list\n",
    "        artist_dict = {\n",
    "            'artist_id': artist_id,\n",
    "            'artist_name': artist['name'],\n",
    "            'artist_link': artist['external_urls']['spotify'],\n",
    "            'artist_image': sp.artist(artist_id)['images'][0]['url']\n",
    "        }\n",
    "        artist_list.append(artist_dict)\n",
    "\n",
    "        # storing track id and artist id in list\n",
    "        song_artist_dict = {\n",
    "            'track_id': track_id,\n",
    "            'artist_id': artist_id\n",
    "        }\n",
    "        song_artist_list.append(song_artist_dict)\n",
    "\n",
    "    # getting album info\n",
    "    track_album = track['album']\n",
    "    album_id = track_album['id']\n",
    "\n",
    "    # iterating through album artists\n",
    "    for album in track_album['artists']:\n",
    "        # storing album id and artist id in list\n",
    "        album_artist_dict = {\n",
    "            'album_id': album_id,\n",
    "            'artist_id': album['id']\n",
    "        }\n",
    "        album_artist_list.append(album_artist_dict)\n",
    "\n",
    "    # storing track id and album id in list\n",
    "    song_album_dict = {\n",
    "        'track_id': track_id,\n",
    "        'album_id': album_id\n",
    "    }\n",
    "    song_album_list.append(song_album_dict)\n",
    "\n",
    "    # storing track info in list\n",
    "    track_dict = {\n",
    "        'track_id': track_id,\n",
    "        'track_name': track['name'],\n",
    "        'track_link': track['external_urls']['spotify'],\n",
    "        'track_duration': track['duration_ms']\n",
    "    }\n",
    "    track_list.append(track_dict)\n",
    "\n",
    "    # storing album info in list\n",
    "    album_dict = {\n",
    "        'album_id': album_id,\n",
    "        'album_name': track_album['name'],\n",
    "        'album_img': track_album['images'][0]['url'],\n",
    "        'album_type': track_album['album_type'],\n",
    "        'album_link': track_album['external_urls']['spotify'],\n",
    "        'release_date': track_album['release_date'],\n",
    "        'total_tracks': track_album['total_tracks']\n",
    "    }\n",
    "    album_list.append(album_dict)"
   ]
  },
  {
   "cell_type": "code",
   "execution_count": 7,
   "metadata": {
    "scrolled": false
   },
   "outputs": [
    {
     "data": {
      "text/html": [
       "<div>\n",
       "<style scoped>\n",
       "    .dataframe tbody tr th:only-of-type {\n",
       "        vertical-align: middle;\n",
       "    }\n",
       "\n",
       "    .dataframe tbody tr th {\n",
       "        vertical-align: top;\n",
       "    }\n",
       "\n",
       "    .dataframe thead th {\n",
       "        text-align: right;\n",
       "    }\n",
       "</style>\n",
       "<table border=\"1\" class=\"dataframe\">\n",
       "  <thead>\n",
       "    <tr style=\"text-align: right;\">\n",
       "      <th></th>\n",
       "      <th>track_duration</th>\n",
       "      <th>track_id</th>\n",
       "      <th>track_link</th>\n",
       "      <th>track_name</th>\n",
       "    </tr>\n",
       "  </thead>\n",
       "  <tbody>\n",
       "    <tr>\n",
       "      <th>0</th>\n",
       "      <td>157066</td>\n",
       "      <td>6u7jPi22kF8CTQ3rb9DHE7</td>\n",
       "      <td>https://open.spotify.com/track/6u7jPi22kF8CTQ3...</td>\n",
       "      <td>Old Town Road - Remix</td>\n",
       "    </tr>\n",
       "    <tr>\n",
       "      <th>1</th>\n",
       "      <td>194087</td>\n",
       "      <td>2Fxmhks0bxGSBdJ92vM42m</td>\n",
       "      <td>https://open.spotify.com/track/2Fxmhks0bxGSBdJ...</td>\n",
       "      <td>bad guy</td>\n",
       "    </tr>\n",
       "    <tr>\n",
       "      <th>2</th>\n",
       "      <td>113013</td>\n",
       "      <td>53CJANUxooaqGOtdsBTh7O</td>\n",
       "      <td>https://open.spotify.com/track/53CJANUxooaqGOt...</td>\n",
       "      <td>Old Town Road</td>\n",
       "    </tr>\n",
       "    <tr>\n",
       "      <th>3</th>\n",
       "      <td>158040</td>\n",
       "      <td>3KkXRkHbMCARz0aVfEt68P</td>\n",
       "      <td>https://open.spotify.com/track/3KkXRkHbMCARz0a...</td>\n",
       "      <td>Sunflower - Spider-Man: Into the Spider-Verse</td>\n",
       "    </tr>\n",
       "    <tr>\n",
       "      <th>4</th>\n",
       "      <td>213593</td>\n",
       "      <td>2JvzF1RMd7lE3KmFlsyZD8</td>\n",
       "      <td>https://open.spotify.com/track/2JvzF1RMd7lE3Km...</td>\n",
       "      <td>MIDDLE CHILD</td>\n",
       "    </tr>\n",
       "  </tbody>\n",
       "</table>\n",
       "</div>"
      ],
      "text/plain": [
       "   track_duration                track_id  \\\n",
       "0          157066  6u7jPi22kF8CTQ3rb9DHE7   \n",
       "1          194087  2Fxmhks0bxGSBdJ92vM42m   \n",
       "2          113013  53CJANUxooaqGOtdsBTh7O   \n",
       "3          158040  3KkXRkHbMCARz0aVfEt68P   \n",
       "4          213593  2JvzF1RMd7lE3KmFlsyZD8   \n",
       "\n",
       "                                          track_link  \\\n",
       "0  https://open.spotify.com/track/6u7jPi22kF8CTQ3...   \n",
       "1  https://open.spotify.com/track/2Fxmhks0bxGSBdJ...   \n",
       "2  https://open.spotify.com/track/53CJANUxooaqGOt...   \n",
       "3  https://open.spotify.com/track/3KkXRkHbMCARz0a...   \n",
       "4  https://open.spotify.com/track/2JvzF1RMd7lE3Km...   \n",
       "\n",
       "                                      track_name  \n",
       "0                          Old Town Road - Remix  \n",
       "1                                        bad guy  \n",
       "2                                  Old Town Road  \n",
       "3  Sunflower - Spider-Man: Into the Spider-Verse  \n",
       "4                                   MIDDLE CHILD  "
      ]
     },
     "execution_count": 7,
     "metadata": {},
     "output_type": "execute_result"
    }
   ],
   "source": [
    "# Converting the track list into a dataframe\n",
    "\n",
    "track_df = pd.DataFrame(track_list)\n",
    "track_df.head() # preview first 5 rows of data"
   ]
  },
  {
   "cell_type": "code",
   "execution_count": 8,
   "metadata": {},
   "outputs": [],
   "source": [
    "artist_df = pd.DataFrame(artist_list)\n",
    "artist_df.drop_duplicates(keep='first', inplace=True)\n",
    "# artist_df.head()"
   ]
  },
  {
   "cell_type": "code",
   "execution_count": 9,
   "metadata": {},
   "outputs": [],
   "source": [
    "album_df = pd.DataFrame(album_list)\n",
    "album_df.drop_duplicates(keep='first', inplace=True) # drop duplicate albums\n",
    "# album_df.head()"
   ]
  },
  {
   "cell_type": "code",
   "execution_count": 10,
   "metadata": {},
   "outputs": [],
   "source": [
    "song_artist_df = pd.DataFrame(song_artist_list)\n",
    "# song_artist_df.set_index('track_id', inplace=True)\n",
    "\n",
    "song_album_df = pd.DataFrame(song_album_list)\n",
    "# song_album_df.set_index('track_id', inplace=True)\n",
    "\n",
    "album_artist_df = pd.DataFrame(album_artist_list)\n",
    "# album_artist_df.set_index('album_id', inplace=True)\n",
    "album_artist_df.drop_duplicates(keep='first', inplace=True)"
   ]
  },
  {
   "cell_type": "markdown",
   "metadata": {},
   "source": [
    "Checking dataframe shapes"
   ]
  },
  {
   "cell_type": "code",
   "execution_count": 11,
   "metadata": {},
   "outputs": [
    {
     "name": "stdout",
     "output_type": "stream",
     "text": [
      "track (50, 4)\n",
      "artist (43, 4)\n",
      "album (37, 7)\n",
      "song_artist (69, 2)\n",
      "song_album (50, 2)\n",
      "album_artist (45, 2)\n"
     ]
    }
   ],
   "source": [
    "print('track', track_df.shape)\n",
    "print('artist', artist_df.shape)\n",
    "print('album', album_df.shape)\n",
    "print('song_artist', song_artist_df.shape)\n",
    "print('song_album', song_album_df.shape)\n",
    "print('album_artist', album_artist_df.shape)"
   ]
  },
  {
   "cell_type": "markdown",
   "metadata": {},
   "source": [
    "Saving the dataframes as csv files"
   ]
  },
  {
   "cell_type": "code",
   "execution_count": 12,
   "metadata": {},
   "outputs": [],
   "source": [
    "csv_folder_name = 'data/csv/'\n",
    "if not os.path.exists(csv_folder_name):\n",
    "    os.makedirs(csv_folder_name)\n",
    "\n",
    "track_df.to_csv(csv_folder_name + 'songs.csv')\n",
    "artist_df.to_csv(csv_folder_name + 'artists.csv')\n",
    "album_df.to_csv(csv_folder_name + 'albums.csv')\n",
    "\n",
    "song_artist_df.to_csv(csv_folder_name + 'song-artist.csv')\n",
    "song_album_df.to_csv(csv_folder_name + 'song-album.csv')\n",
    "album_artist_df.to_csv(csv_folder_name + 'album-artist.csv')"
   ]
  },
  {
   "cell_type": "markdown",
   "metadata": {},
   "source": [
    "Create .dat files with\n",
    "- no headers (a.k.a. column names)\n",
    "- columns deliminated by vertical bars\n",
    "\n",
    "Created for SQL db.\n",
    "\n",
    "Note: .dat extension was made up"
   ]
  },
  {
   "cell_type": "code",
   "execution_count": 13,
   "metadata": {},
   "outputs": [],
   "source": [
    "dat_folder_name = 'data/dat/'\n",
    "if not os.path.exists(dat_folder_name):\n",
    "    os.makedirs(dat_folder_name)\n",
    "\n",
    "track_df.to_csv(dat_folder_name + 'songs.dat', sep='|', header=False, index=False)\n",
    "artist_df.to_csv(dat_folder_name + 'artists.dat', sep='|', header=False, index=False)\n",
    "album_df.to_csv(dat_folder_name + 'albums.dat', sep='|', header=False, index=False)\n",
    "\n",
    "song_artist_df.to_csv(dat_folder_name + 'song-artist.dat', sep='|', header=False, index=False)\n",
    "song_album_df.to_csv(dat_folder_name + 'song-album.dat', sep='|', header=False, index=False)\n",
    "album_artist_df.to_csv(dat_folder_name + 'album-artist.dat', sep='|', header=False, index=False)"
   ]
  },
  {
   "cell_type": "markdown",
   "metadata": {},
   "source": [
    "Check out both folders!"
   ]
  },
  {
   "cell_type": "markdown",
   "metadata": {},
   "source": [
    "in netlab\n",
    "- clone repo, or pull most recent changes\n",
    "- go into repo\n",
    "- start mysql (mysql -u root -p)\n",
    "- run SQL script with `source initDB.sql`\n",
    "\n",
    "locally\n",
    "- `$ python manage.py inspectdb > models.py`\n",
    "- move ***models.py*** to ***blog*** app\n",
    "- `$ python manage.py makemigrations`\n",
    "- `$ python manage.py migrate`\n",
    "- `$ python manage.py runserver`"
   ]
  },
  {
   "cell_type": "code",
   "execution_count": null,
   "metadata": {},
   "outputs": [],
   "source": []
  }
 ],
 "metadata": {
  "kernelspec": {
   "display_name": "Python 3",
   "language": "python",
   "name": "python3"
  },
  "language_info": {
   "codemirror_mode": {
    "name": "ipython",
    "version": 3
   },
   "file_extension": ".py",
   "mimetype": "text/x-python",
   "name": "python",
   "nbconvert_exporter": "python",
   "pygments_lexer": "ipython3",
   "version": "3.7.3"
  }
 },
 "nbformat": 4,
 "nbformat_minor": 2
}
